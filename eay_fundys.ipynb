{
 "cells": [
  {
   "cell_type": "code",
   "execution_count": null,
   "id": "raised-bulgaria",
   "metadata": {},
   "outputs": [],
   "source": [
    "import matplotlib.pyplot as plt\n",
    "%matplotlib inline\n",
    "plt.style.use('ggplot')\n",
    "\n",
    "import pandas as pd\n",
    "import numpy as np\n",
    "\n",
    "# Import the main functionality from the SimFin Python API.\n",
    "import simfin as sf\n",
    "\n",
    "# Import names used for easy access to SimFin's data-columns.\n",
    "from simfin.names import *"
   ]
  },
  {
   "cell_type": "code",
   "execution_count": null,
   "id": "corresponding-serum",
   "metadata": {},
   "outputs": [],
   "source": [
    "sf.set_data_dir('~/simfin_data/')\n",
    "sf.set_api_key(api_key='free')"
   ]
  },
  {
   "cell_type": "code",
   "execution_count": null,
   "id": "further-sector",
   "metadata": {
    "jupyter": {
     "source_hidden": true
    },
    "tags": []
   },
   "outputs": [],
   "source": [
    "# qtly_income_df = sf.load(dataset='income', variant='quarterly', market='us',\n",
    "#              index=[TICKER, REPORT_DATE],\n",
    "#              parse_dates=[REPORT_DATE, PUBLISH_DATE, RESTATED_DATE])"
   ]
  },
  {
   "cell_type": "code",
   "execution_count": null,
   "id": "choice-asthma",
   "metadata": {},
   "outputs": [],
   "source": [
    "country = 'us'\n",
    "time_period = 'quarterly'\n",
    "co = sf.load_companies()"
   ]
  },
  {
   "cell_type": "code",
   "execution_count": null,
   "id": "front-defendant",
   "metadata": {
    "tags": []
   },
   "outputs": [],
   "source": [
    "qtly_income_df = sf.load_income(variant=time_period, market=country)\n",
    "qtly_cashflow_df = sf.load_cashflow(variant=time_period, market=country)\n",
    "qtly_balance_df = sf.load_balance(variant=time_period, market=country)"
   ]
  },
  {
   "cell_type": "code",
   "execution_count": null,
   "id": "tropical-johns",
   "metadata": {
    "jupyter": {
     "source_hidden": true
    },
    "tags": []
   },
   "outputs": [],
   "source": [
    "#dir(df)\n",
    "#df.keys()\n",
    "#df.index.get_level_values('Ticker')\n",
    "#df[np.in1d(df.index.get_level_values('Ticker'), ['A'])]\n",
    "\n",
    "#a_labels = [ label for label in df.index.get_level_values('Ticker') if 'Y' in label]#label.startswith('Y') ]\n",
    "#df[np.in1d(df.index.get_level_values('Ticker'), a_labels)]"
   ]
  },
  {
   "cell_type": "code",
   "execution_count": null,
   "id": "distant-portland",
   "metadata": {
    "jupyter": {
     "source_hidden": true
    },
    "tags": []
   },
   "outputs": [],
   "source": [
    "#df.loc['ACI'].to_csv(r'~/simfin_data/ACI-quarterly.csv')"
   ]
  },
  {
   "cell_type": "code",
   "execution_count": null,
   "id": "horizontal-tender",
   "metadata": {
    "tags": []
   },
   "outputs": [],
   "source": [
    "#qtly_income_df.keys()\n",
    "#qtly_cashflow_df.keys()\n",
    "qtly_balance_df.keys()"
   ]
  },
  {
   "cell_type": "code",
   "execution_count": null,
   "id": "absent-berlin",
   "metadata": {},
   "outputs": [],
   "source": [
    "companies = ['IBM', 'MSFT']#, 'AAPL', 'GOOG']\n",
    "qtly_shares_df = qtly_balance_df.loc[companies, ['Shares (Basic)']].copy() # sf.derived.shares(qtly_balance_df.loc[companies])\n",
    "#ebitda = sf.ebitda(qtly_income_df.loc[companies], qtly_cashflow_df.loc[companies])\n",
    "qtly_net_income_df = qtly_income_df.loc[companies, [NET_INCOME]].copy()"
   ]
  },
  {
   "cell_type": "code",
   "execution_count": null,
   "id": "indoor-classroom",
   "metadata": {
    "tags": []
   },
   "outputs": [],
   "source": [
    "#type(shares)\n",
    "#shares['Shares (Basic)']['IBM']#.keys()#xs(['Shares (Basic)'], level=1)\n",
    "#type(qtly_net_income_df)\n",
    "#qtly_net_income_df.divide(shares)\n",
    "qtly_eps_ser = qtly_net_income_df['Net Income'].div(qtly_shares_df['Shares (Basic)'], level=2).copy()\n",
    "#type(qtly_eps_df)\n",
    "qtly_eps_ser"
   ]
  },
  {
   "cell_type": "markdown",
   "id": "split-subsection",
   "metadata": {},
   "source": [
    "https://simfin.readthedocs.io/en/latest/derived.html"
   ]
  },
  {
   "cell_type": "code",
   "execution_count": null,
   "id": "organizational-maryland",
   "metadata": {
    "tags": []
   },
   "outputs": [],
   "source": [
    "qtly_eps_ser.plot(x=\"Report Date\",\n",
    "            y=\"Ticker\",\n",
    "            kind=\"bar\",\n",
    "            color=['deepskyblue', 'skyblue'],\n",
    "            figsize=(15,10),\n",
    "            #subplots=True,\n",
    "            rot=90\n",
    "        )\n",
    "#plt.Axes.set_xticks(minor=False)\n",
    "plt.show()"
   ]
  },
  {
   "cell_type": "code",
   "execution_count": null,
   "id": "small-brass",
   "metadata": {
    "tags": []
   },
   "outputs": [],
   "source": [
    "free_cash_flow = sf.derived.free_cash_flow(qtly_cashflow_df.loc[companies])\n",
    "free_cash_flow.plot.bar(x='Report Date', rot=0)"
   ]
  },
  {
   "cell_type": "code",
   "execution_count": null,
   "id": "rocky-complex",
   "metadata": {
    "tags": []
   },
   "outputs": [],
   "source": [
    "ncav = sf.derived.ncav(qtly_balance_df.loc[companies])\n",
    "ncav.plot.bar(x='Report Date', rot=0)"
   ]
  },
  {
   "cell_type": "code",
   "execution_count": null,
   "id": "accomplished-morocco",
   "metadata": {
    "tags": []
   },
   "outputs": [],
   "source": [
    "netnet = sf.derived.netnet(qtly_balance_df.loc[companies])\n",
    "netnet.plot.bar(x='Report Date', rot=0)"
   ]
  },
  {
   "cell_type": "code",
   "execution_count": null,
   "id": "disturbed-opening",
   "metadata": {
    "tags": []
   },
   "outputs": [],
   "source": [
    "shares = sf.derived.shares(qtly_balance_df.loc[companies])\n",
    "shares.plot.bar(x='Report Date', rot=0)"
   ]
  }
 ],
 "metadata": {
  "kernelspec": {
   "display_name": "Python 3",
   "language": "python",
   "name": "python3"
  },
  "language_info": {
   "codemirror_mode": {
    "name": "ipython",
    "version": 3
   },
   "file_extension": ".py",
   "mimetype": "text/x-python",
   "name": "python",
   "nbconvert_exporter": "python",
   "pygments_lexer": "ipython3",
   "version": "3.9.1"
  }
 },
 "nbformat": 4,
 "nbformat_minor": 5
}
