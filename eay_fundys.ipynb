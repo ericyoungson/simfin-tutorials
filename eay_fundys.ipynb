{
 "cells": [
  {
   "cell_type": "code",
   "execution_count": null,
   "id": "seven-present",
   "metadata": {},
   "outputs": [],
   "source": [
    "%matplotlib inline\n",
    "import pandas as pd\n",
    "import numpy as np\n",
    "\n",
    "# Import the main functionality from the SimFin Python API.\n",
    "import simfin as sf\n",
    "\n",
    "# Import names used for easy access to SimFin's data-columns.\n",
    "from simfin.names import *"
   ]
  },
  {
   "cell_type": "code",
   "execution_count": null,
   "id": "protected-process",
   "metadata": {},
   "outputs": [],
   "source": [
    "sf.set_data_dir('~/simfin_data/')\n",
    "sf.set_api_key(api_key='free')"
   ]
  },
  {
   "cell_type": "code",
   "execution_count": null,
   "id": "prostate-devices",
   "metadata": {
    "jupyter": {
     "source_hidden": true
    },
    "tags": []
   },
   "outputs": [],
   "source": [
    "# qtly_income_df = sf.load(dataset='income', variant='quarterly', market='us',\n",
    "#              index=[TICKER, REPORT_DATE],\n",
    "#              parse_dates=[REPORT_DATE, PUBLISH_DATE, RESTATED_DATE])"
   ]
  },
  {
   "cell_type": "code",
   "execution_count": null,
   "id": "tight-gilbert",
   "metadata": {},
   "outputs": [],
   "source": [
    "market = 'us'\n",
    "time_period = 'quarterly'\n",
    "co = sf.load_companies()"
   ]
  },
  {
   "cell_type": "code",
   "execution_count": null,
   "id": "eight-colonial",
   "metadata": {},
   "outputs": [],
   "source": [
    "qtly_income_df = sf.load_income(variant=time_period, market=market)"
   ]
  },
  {
   "cell_type": "code",
   "execution_count": null,
   "id": "delayed-gateway",
   "metadata": {
    "tags": []
   },
   "outputs": [],
   "source": [
    "qtly_cashflow_df = sf.load_cashflow(variant=time_period, market=market)"
   ]
  },
  {
   "cell_type": "code",
   "execution_count": null,
   "id": "armed-shoulder",
   "metadata": {},
   "outputs": [],
   "source": [
    "qtly_balance_df = sf.load_balance(variant=time_period, market=market)"
   ]
  },
  {
   "cell_type": "code",
   "execution_count": null,
   "id": "knowing-bidding",
   "metadata": {
    "jupyter": {
     "source_hidden": true
    },
    "tags": []
   },
   "outputs": [],
   "source": [
    "#dir(df)\n",
    "#df.keys()\n",
    "#df.index.get_level_values('Ticker')\n",
    "#df[np.in1d(df.index.get_level_values('Ticker'), ['A'])]\n",
    "\n",
    "#a_labels = [ label for label in df.index.get_level_values('Ticker') if 'Y' in label]#label.startswith('Y') ]\n",
    "#df[np.in1d(df.index.get_level_values('Ticker'), a_labels)]"
   ]
  },
  {
   "cell_type": "code",
   "execution_count": null,
   "id": "solved-emperor",
   "metadata": {
    "tags": []
   },
   "outputs": [],
   "source": [
    "#df.loc['ACI'].to_csv(r'~/simfin_data/ACI-quarterly.csv')"
   ]
  },
  {
   "cell_type": "code",
   "execution_count": null,
   "id": "forbidden-table",
   "metadata": {},
   "outputs": [],
   "source": [
    "companies = ['ACI', 'WFM']"
   ]
  },
  {
   "cell_type": "markdown",
   "id": "funny-insulin",
   "metadata": {},
   "source": [
    "https://simfin.readthedocs.io/en/latest/derived.html"
   ]
  },
  {
   "cell_type": "code",
   "execution_count": null,
   "id": "mathematical-cartoon",
   "metadata": {
    "tags": []
   },
   "outputs": [],
   "source": [
    "sf.derived.ebitda(qtly_income_df.loc[companies], qtly_cashflow_df.loc[companies])"
   ]
  },
  {
   "cell_type": "code",
   "execution_count": null,
   "id": "unauthorized-approach",
   "metadata": {
    "tags": []
   },
   "outputs": [],
   "source": [
    "sf.derived.free_cash_flow(qtly_cashflow_df.loc[companies])"
   ]
  },
  {
   "cell_type": "code",
   "execution_count": null,
   "id": "biological-mirror",
   "metadata": {
    "tags": []
   },
   "outputs": [],
   "source": [
    "sf.derived.ncav(qtly_balance_df.loc[companies])"
   ]
  },
  {
   "cell_type": "code",
   "execution_count": null,
   "id": "clean-wheel",
   "metadata": {
    "tags": []
   },
   "outputs": [],
   "source": [
    "sf.derived.netnet(qtly_balance_df.loc[companies])"
   ]
  },
  {
   "cell_type": "code",
   "execution_count": null,
   "id": "underlying-reset",
   "metadata": {
    "tags": []
   },
   "outputs": [],
   "source": [
    "sf.derived.shares(qtly_balance_df.loc[companies])"
   ]
  }
 ],
 "metadata": {
  "kernelspec": {
   "display_name": "Python 3",
   "language": "python",
   "name": "python3"
  },
  "language_info": {
   "codemirror_mode": {
    "name": "ipython",
    "version": 3
   },
   "file_extension": ".py",
   "mimetype": "text/x-python",
   "name": "python",
   "nbconvert_exporter": "python",
   "pygments_lexer": "ipython3",
   "version": "3.9.1"
  }
 },
 "nbformat": 4,
 "nbformat_minor": 5
}
