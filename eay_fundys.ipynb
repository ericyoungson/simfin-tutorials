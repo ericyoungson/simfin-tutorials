{
 "cells": [
  {
   "cell_type": "code",
   "execution_count": null,
   "id": "duplicate-imagination",
   "metadata": {},
   "outputs": [],
   "source": [
    "import matplotlib.pyplot as plt\n",
    "%matplotlib inline\n",
    "plt.style.use('ggplot')\n",
    "\n",
    "import pandas as pd\n",
    "import numpy as np\n",
    "\n",
    "# Import the main functionality from the SimFin Python API.\n",
    "import simfin as sf\n",
    "\n",
    "# Import names used for easy access to SimFin's data-columns.\n",
    "from simfin.names import *"
   ]
  },
  {
   "cell_type": "code",
   "execution_count": null,
   "id": "mechanical-afternoon",
   "metadata": {},
   "outputs": [],
   "source": [
    "sf.set_data_dir('~/simfin_data/')\n",
    "sf.set_api_key(api_key='free')"
   ]
  },
  {
   "cell_type": "code",
   "execution_count": null,
   "id": "bronze-proposition",
   "metadata": {
    "jupyter": {
     "source_hidden": true
    },
    "tags": []
   },
   "outputs": [],
   "source": [
    "# qtly_income_df = sf.load(dataset='income', variant='quarterly', market='us',\n",
    "#              index=[TICKER, REPORT_DATE],\n",
    "#              parse_dates=[REPORT_DATE, PUBLISH_DATE, RESTATED_DATE])"
   ]
  },
  {
   "cell_type": "code",
   "execution_count": null,
   "id": "elect-hometown",
   "metadata": {},
   "outputs": [],
   "source": [
    "country = 'us'\n",
    "time_period = 'quarterly'\n",
    "co = sf.load_companies()"
   ]
  },
  {
   "cell_type": "code",
   "execution_count": null,
   "id": "contained-assistant",
   "metadata": {},
   "outputs": [],
   "source": [
    "qtly_income_df = sf.load_income(variant=time_period, market=country)"
   ]
  },
  {
   "cell_type": "code",
   "execution_count": null,
   "id": "elegant-bulgarian",
   "metadata": {
    "tags": []
   },
   "outputs": [],
   "source": [
    "qtly_cashflow_df = sf.load_cashflow(variant=time_period, market=country)"
   ]
  },
  {
   "cell_type": "code",
   "execution_count": null,
   "id": "large-hamilton",
   "metadata": {},
   "outputs": [],
   "source": [
    "qtly_balance_df = sf.load_balance(variant=time_period, market=country)"
   ]
  },
  {
   "cell_type": "code",
   "execution_count": null,
   "id": "guided-replication",
   "metadata": {
    "jupyter": {
     "source_hidden": true
    },
    "tags": []
   },
   "outputs": [],
   "source": [
    "#dir(df)\n",
    "#df.keys()\n",
    "#df.index.get_level_values('Ticker')\n",
    "#df[np.in1d(df.index.get_level_values('Ticker'), ['A'])]\n",
    "\n",
    "#a_labels = [ label for label in df.index.get_level_values('Ticker') if 'Y' in label]#label.startswith('Y') ]\n",
    "#df[np.in1d(df.index.get_level_values('Ticker'), a_labels)]"
   ]
  },
  {
   "cell_type": "code",
   "execution_count": null,
   "id": "committed-soldier",
   "metadata": {
    "jupyter": {
     "source_hidden": true
    },
    "tags": []
   },
   "outputs": [],
   "source": [
    "#df.loc['ACI'].to_csv(r'~/simfin_data/ACI-quarterly.csv')"
   ]
  },
  {
   "cell_type": "code",
   "execution_count": null,
   "id": "discrete-tunisia",
   "metadata": {},
   "outputs": [],
   "source": [
    "companies = ['IBM']#, 'MSFT', 'AAPL', 'GOOG']"
   ]
  },
  {
   "cell_type": "markdown",
   "id": "hidden-dealer",
   "metadata": {},
   "source": [
    "https://simfin.readthedocs.io/en/latest/derived.html"
   ]
  },
  {
   "cell_type": "code",
   "execution_count": null,
   "id": "hungry-netscape",
   "metadata": {
    "tags": []
   },
   "outputs": [],
   "source": [
    "ebita = sf.ebitda(qtly_income_df.loc[companies], qtly_cashflow_df.loc[companies])\n",
    "ebita.plot.bar(x='Report Date', rot=0)"
   ]
  },
  {
   "cell_type": "code",
   "execution_count": null,
   "id": "physical-pharmaceutical",
   "metadata": {
    "tags": []
   },
   "outputs": [],
   "source": [
    "free_cash_flow = sf.derived.free_cash_flow(qtly_cashflow_df.loc[companies])\n",
    "free_cash_flow.plot.bar(x='Report Date', rot=0)"
   ]
  },
  {
   "cell_type": "code",
   "execution_count": null,
   "id": "brief-japanese",
   "metadata": {
    "tags": []
   },
   "outputs": [],
   "source": [
    "ncav = sf.derived.ncav(qtly_balance_df.loc[companies])\n",
    "ncav.plot.bar(x='Report Date', rot=0)"
   ]
  },
  {
   "cell_type": "code",
   "execution_count": null,
   "id": "handed-yield",
   "metadata": {
    "tags": []
   },
   "outputs": [],
   "source": [
    "netnet = sf.derived.netnet(qtly_balance_df.loc[companies])\n",
    "netnet.plot.bar(x='Report Date', rot=0)"
   ]
  },
  {
   "cell_type": "code",
   "execution_count": null,
   "id": "foster-zambia",
   "metadata": {
    "tags": []
   },
   "outputs": [],
   "source": [
    "shares = sf.derived.shares(qtly_balance_df.loc[companies])\n",
    "shares.plot.bar(x='Report Date', rot=0)"
   ]
  }
 ],
 "metadata": {
  "kernelspec": {
   "display_name": "Python 3",
   "language": "python",
   "name": "python3"
  },
  "language_info": {
   "codemirror_mode": {
    "name": "ipython",
    "version": 3
   },
   "file_extension": ".py",
   "mimetype": "text/x-python",
   "name": "python",
   "nbconvert_exporter": "python",
   "pygments_lexer": "ipython3",
   "version": "3.9.1"
  }
 },
 "nbformat": 4,
 "nbformat_minor": 5
}
